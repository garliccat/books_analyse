{
 "cells": [
  {
   "cell_type": "markdown",
   "metadata": {},
   "source": [
    "### Этот анализ затевался изначально просто чтобы посчитать среднюю высоту книги для строительства (очередного) шкафчика.   \n",
    "Но раз парсить, то парсить всё что можно. Поэтому помимо габаритов книги были собраны еще кое-какие данные.   \n",
    "Парсера тут нет, датасет уже собран.   \n",
    "Данные были любезно предоставлены (нет) сайтами магазинов Читай Город и Лабиринт.   \n",
    "Часть данных используется с одного сайта, часть с другого."
   ]
  },
  {
   "cell_type": "code",
   "execution_count": 1,
   "metadata": {},
   "outputs": [
    {
     "name": "stdout",
     "output_type": "stream",
     "text": [
      "Количество записей Читай-Город:  12355\n",
      "Количество записей Лабиринт:  50376\n"
     ]
    }
   ],
   "source": [
    "%matplotlib inline\n",
    "\n",
    "import pandas as pd\n",
    "import numpy as np\n",
    "from scipy import stats\n",
    "import matplotlib.pyplot as plt\n",
    "import seaborn as sns\n",
    "sns.set()\n",
    "from sklearn.linear_model import LinearRegression\n",
    "from IPython.display import display, HTML\n",
    "\n",
    "df2 = pd.read_csv('labirint_dataset.csv', sep=';', encoding='utf-16')\n",
    "df = pd.read_csv('chitai_gorod_dataset.csv', sep=';', encoding='utf-16')\n",
    "# df = df.dropna()\n",
    "\n",
    "print('Количество записей Читай-Город: ', df.shape[0])\n",
    "print('Количество записей Лабиринт: ', df2.shape[0])"
   ]
  },
  {
   "cell_type": "markdown",
   "metadata": {},
   "source": [
    "Так как записей много и там присутствуют НЕ книги почему-то тоже, то обрезаем аномалии по высоте книги и весу, которые попадают за 99ый и перед 1ый квантилем.\n",
    "Попадаются всякие адские фолианты или гигантские календари (которые почему-то у читай-города в разделе \"книги\")"
   ]
  },
  {
   "cell_type": "code",
   "execution_count": 2,
   "metadata": {},
   "outputs": [],
   "source": [
    "df = df[(df['height'] < df['height'].quantile(.999)) & (df['height'] > df['height'].quantile(.001))]\n",
    "df = df[(df['weight'] < df['weight'].quantile(.999)) & (df['weight'] > df['weight'].quantile(.001))]"
   ]
  },
  {
   "cell_type": "markdown",
   "metadata": {},
   "source": [
    "Делим все книги на две категории, ибо как правило в шкафах делают полки двух размеров (те, которые дома а не в библиотеках).\n",
    "Полки для большинства книг и полки для высоких, больших талмудов, коранов, библий и прочих антропологических атласов и энциклопедий рыбака."
   ]
  },
  {
   "cell_type": "code",
   "execution_count": 3,
   "metadata": {},
   "outputs": [
    {
     "data": {
      "image/png": "[encoded data removed]",
      "text/plain": [
       "<Figure size 432x288 with 1 Axes>"
      ]
     },
     "metadata": {
      "needs_background": "light"
     },
     "output_type": "display_data"
    },
    {
     "name": "stdout",
     "output_type": "stream",
     "text": [
      "Высота основных полок (плюс зазор 3 см.) =  24.0\n",
      "Высота дополнительных (высоких) полок (плюс 3 см.) =  37.9\n",
      "Пропорция количества полок обычные / высокие: 2.5\n"
     ]
    }
   ],
   "source": [
    "height = df['height'].dropna()\n",
    "ax1 = sns.distplot(height, bins=2)\n",
    "text_y = ax1.get_lines()[0].get_data()[1].max()\n",
    "text_x = ax1.get_lines()[0].get_data()[0]\n",
    "text_x = text_x[np.where(ax1.get_lines()[0].get_data()[1] == text_y)][0]\n",
    "ax1.annotate(s=format(text_x, '.1f'), xy=(text_x, text_y))\n",
    "plt.xlabel('Высота книги (см.)')\n",
    "plt.ylabel('Вероятность')\n",
    "plt.title('Распределение высоты книг')\n",
    "plt.tight_layout()\n",
    "plt.show()\n",
    "\n",
    "print('Высота основных полок (плюс зазор 3 см.) = ', round(text_x + 3, 1))\n",
    "print('Высота дополнительных (высоких) полок (плюс 3 см.) = ', round((height.max() + 3), 1))\n",
    "shelves_prop = ax1.patches[1].get_x() / ax1.patches[0].get_x()\n",
    "print('Пропорция количества полок обычные / высокие: {:.1f}'.format(shelves_prop))"
   ]
  },
  {
   "cell_type": "markdown",
   "metadata": {},
   "source": [
    "### Анализ издательств."
   ]
  },
  {
   "cell_type": "code",
   "execution_count": 11,
   "metadata": {},
   "outputs": [
    {
     "name": "stdout",
     "output_type": "stream",
     "text": [
      "\n",
      "Самые плодовитые авторы:\n"
     ]
    },
    {
     "data": {
      "text/plain": [
       "author\n",
       "Трусов И.                            121\n",
       "Баталина Вера                        113\n",
       "Узорова Ольга Васильевна             112\n",
       "Пименова Татьяна                     102\n",
       "Земцова Ольга Николаевна              88\n",
       "Пушкин Александр Сергеевич            84\n",
       "Чуковский Корней Иванович             83\n",
       "Зверев Сергей Иванович                83\n",
       "Александрова Наталья Николаевна       81\n",
       "Тамоников Александр Александрович     78\n",
       "Жилинская А.                          78\n",
       "Гришина Анна                          73\n",
       "Донцова Дарья Аркадьевна              73\n",
       "Братушева А.                          70\n",
       "Токарева Елена                        70\n",
       "Толстой Лев Николаевич                64\n",
       "Русакова Александра                   64\n",
       "Маринина Александра                   62\n",
       "Робертс Нора                          62\n",
       "Дойл Артур Конан                      61\n",
       "Name: title, dtype: int64"
      ]
     },
     "metadata": {},
     "output_type": "display_data"
    },
    {
     "name": "stdout",
     "output_type": "stream",
     "text": [
      "\n",
      "Топ годов по релизам:\n"
     ]
    },
    {
     "data": {
      "text/plain": [
       "year\n",
       "2019.0    9174\n",
       "2020.0    1525\n",
       "2018.0     472\n",
       "2017.0     184\n",
       "2010.0      88\n",
       "Name: title, dtype: int64"
      ]
     },
     "metadata": {},
     "output_type": "display_data"
    },
    {
     "name": "stdout",
     "output_type": "stream",
     "text": [
      "\n",
      "Топ книг по количеству страниц:\n"
     ]
    },
    {
     "data": {
      "text/html": [
       "<div>\n",
       "<style scoped>\n",
       "    .dataframe tbody tr th:only-of-type {\n",
       "        vertical-align: middle;\n",
       "    }\n",
       "\n",
       "    .dataframe tbody tr th {\n",
       "        vertical-align: top;\n",
       "    }\n",
       "\n",
       "    .dataframe thead th {\n",
       "        text-align: right;\n",
       "    }\n",
       "</style>\n",
       "<table border=\"1\" class=\"dataframe\">\n",
       "  <thead>\n",
       "    <tr style=\"text-align: right;\">\n",
       "      <th></th>\n",
       "      <th>author</th>\n",
       "      <th>title</th>\n",
       "      <th>pages</th>\n",
       "    </tr>\n",
       "  </thead>\n",
       "  <tbody>\n",
       "    <tr>\n",
       "      <td>16659</td>\n",
       "      <td>Протопресвитер Александр Шмеман</td>\n",
       "      <td>Александр Протопресвитер: \"Я верю\". Что это зн...</td>\n",
       "      <td>11176.0</td>\n",
       "    </tr>\n",
       "    <tr>\n",
       "      <td>42586</td>\n",
       "      <td>Сандему Маргит</td>\n",
       "      <td>Маргит Сандему: Люди Льда. Сага. Собрание сочи...</td>\n",
       "      <td>8992.0</td>\n",
       "    </tr>\n",
       "    <tr>\n",
       "      <td>15944</td>\n",
       "      <td>Волошин Максимилиан Александрович</td>\n",
       "      <td>Максимилиан Волошин: Собрание сочинений. В 8 т...</td>\n",
       "      <td>8032.0</td>\n",
       "    </tr>\n",
       "    <tr>\n",
       "      <td>30232</td>\n",
       "      <td>Цвейг Стефан</td>\n",
       "      <td>Стефан Цвейг: Собрание сочинений в 8-ми томах</td>\n",
       "      <td>4992.0</td>\n",
       "    </tr>\n",
       "    <tr>\n",
       "      <td>20975</td>\n",
       "      <td>Захаров Андрей Николаевич</td>\n",
       "      <td>Андрей Захаров: Перекресток времен. Бородатые ...</td>\n",
       "      <td>4480.0</td>\n",
       "    </tr>\n",
       "  </tbody>\n",
       "</table>\n",
       "</div>"
      ],
      "text/plain": [
       "                                  author  \\\n",
       "16659    Протопресвитер Александр Шмеман   \n",
       "42586                     Сандему Маргит   \n",
       "15944  Волошин Максимилиан Александрович   \n",
       "30232                       Цвейг Стефан   \n",
       "20975          Захаров Андрей Николаевич   \n",
       "\n",
       "                                                   title    pages  \n",
       "16659  Александр Протопресвитер: \"Я верю\". Что это зн...  11176.0  \n",
       "42586  Маргит Сандему: Люди Льда. Сага. Собрание сочи...   8992.0  \n",
       "15944  Максимилиан Волошин: Собрание сочинений. В 8 т...   8032.0  \n",
       "30232      Стефан Цвейг: Собрание сочинений в 8-ми томах   4992.0  \n",
       "20975  Андрей Захаров: Перекресток времен. Бородатые ...   4480.0  "
      ]
     },
     "metadata": {},
     "output_type": "display_data"
    },
    {
     "name": "stdout",
     "output_type": "stream",
     "text": [
      "\n",
      "Самые ходовые количества страниц\n"
     ]
    },
    {
     "data": {
      "text/plain": [
       "pages\n",
       "320.0    2283\n",
       "16.0     2027\n",
       "352.0    1633\n",
       "96.0     1485\n",
       "128.0    1233\n",
       "Name: title, dtype: int64"
      ]
     },
     "metadata": {},
     "output_type": "display_data"
    },
    {
     "name": "stdout",
     "output_type": "stream",
     "text": [
      "\n",
      "\n"
     ]
    },
    {
     "data": {
      "text/plain": [
       "publisher\n",
       "Эксмо-Пресс    569\n",
       "АСТ            549\n",
       "Эксмо          356\n",
       "Вече            72\n",
       "Феникс+         53\n",
       "Name: title, dtype: int64"
      ]
     },
     "metadata": {},
     "output_type": "display_data"
    },
    {
     "name": "stdout",
     "output_type": "stream",
     "text": [
      "\n",
      "Самый ленивый издатель (большинство книг с одинаковым количеством страниц):  Эксмо-Пресс\n",
      "\n",
      "Возрастные рейтинги книг:\n"
     ]
    },
    {
     "data": {
      "image/png": "[encoded data removed]",
      "text/plain": [
       "<Figure size 432x288 with 1 Axes>"
      ]
     },
     "metadata": {
      "needs_background": "light"
     },
     "output_type": "display_data"
    }
   ],
   "source": [
    "print('\\nСамые плодовитые авторы:')\n",
    "display(df2.groupby(by='author').count()['title'].sort_values(ascending=False).head(20))\n",
    "print('\\nТоп годов по релизам:')\n",
    "display(df.groupby(by='year').count()['title'].sort_values(ascending=False).head())\n",
    "print('\\nТоп книг по количеству страниц:')\n",
    "display(df2.sort_values(by='pages', ascending=False)[['author', 'title', 'pages']].head())\n",
    "\n",
    "pages = df2.groupby(by='pages').count()['title'].sort_values(ascending=False)\n",
    "print('\\nСамые ходовые количества страниц')\n",
    "display(pages.head())\n",
    "page_conspiracy = df2[df2['pages'] == pages.index[0]].groupby(by='publisher').count()['title'].sort_values(ascending=False)\n",
    "print('\\n')\n",
    "display(page_conspiracy.head())\n",
    "print('\\nСамый ленивый издатель (большинство книг с одинаковым количеством страниц): ', page_conspiracy.index[0])\n",
    "\n",
    "print('\\nВозрастные рейтинги книг:')\n",
    "book_ratings = df.groupby(by='book_pg').count()['title'].sort_values(ascending=False)\n",
    "# print(book_ratings)\n",
    "ax = sns.barplot(book_ratings.index, book_ratings.values)\n",
    "for p in ax.patches:\n",
    "\tax.annotate(format(p.get_height(), '.0f'), \n",
    "                (p.get_x() + p.get_width() / 2., p.get_height()), \n",
    "                ha = 'center', va = 'center', xytext = (0, 10), textcoords = 'offset points')\n",
    "plt.xlabel('Возрастной рейтинг книг')\n",
    "plt.ylabel('Количество книг')\n",
    "plt.title('Возрастные рейтинги книг')\n",
    "plt.show()"
   ]
  },
  {
   "cell_type": "markdown",
   "metadata": {},
   "source": [
    "### Анализ цен на книги."
   ]
  },
  {
   "cell_type": "code",
   "execution_count": 5,
   "metadata": {},
   "outputs": [
    {
     "name": "stdout",
     "output_type": "stream",
     "text": [
      "\n",
      "Самые дорогие книги (топ 10):\n"
     ]
    },
    {
     "data": {
      "text/html": [
       "<div>\n",
       "<style scoped>\n",
       "    .dataframe tbody tr th:only-of-type {\n",
       "        vertical-align: middle;\n",
       "    }\n",
       "\n",
       "    .dataframe tbody tr th {\n",
       "        vertical-align: top;\n",
       "    }\n",
       "\n",
       "    .dataframe thead th {\n",
       "        text-align: right;\n",
       "    }\n",
       "</style>\n",
       "<table border=\"1\" class=\"dataframe\">\n",
       "  <thead>\n",
       "    <tr style=\"text-align: right;\">\n",
       "      <th></th>\n",
       "      <th>author</th>\n",
       "      <th>title</th>\n",
       "      <th>price</th>\n",
       "    </tr>\n",
       "  </thead>\n",
       "  <tbody>\n",
       "    <tr>\n",
       "      <td>9935</td>\n",
       "      <td>Воробьев В.</td>\n",
       "      <td>Мир спорта - это наш мир</td>\n",
       "      <td>13185</td>\n",
       "    </tr>\n",
       "    <tr>\n",
       "      <td>2161</td>\n",
       "      <td>Гауф В.</td>\n",
       "      <td>Калиф - аист</td>\n",
       "      <td>8250</td>\n",
       "    </tr>\n",
       "    <tr>\n",
       "      <td>1199</td>\n",
       "      <td>Калдер Н.</td>\n",
       "      <td>Руководство по механическим и электрическим си...</td>\n",
       "      <td>7920</td>\n",
       "    </tr>\n",
       "    <tr>\n",
       "      <td>1200</td>\n",
       "      <td>Калдер Н.</td>\n",
       "      <td>Руководство по механическим и электрическим си...</td>\n",
       "      <td>7920</td>\n",
       "    </tr>\n",
       "    <tr>\n",
       "      <td>2162</td>\n",
       "      <td>Андерсен Х.</td>\n",
       "      <td>Дюймовочка</td>\n",
       "      <td>7800</td>\n",
       "    </tr>\n",
       "    <tr>\n",
       "      <td>2155</td>\n",
       "      <td>Гауф В.</td>\n",
       "      <td>Холодное сердце</td>\n",
       "      <td>7800</td>\n",
       "    </tr>\n",
       "    <tr>\n",
       "      <td>2160</td>\n",
       "      <td>Андерсен Х.</td>\n",
       "      <td>Принцесса на горошине</td>\n",
       "      <td>7800</td>\n",
       "    </tr>\n",
       "    <tr>\n",
       "      <td>2159</td>\n",
       "      <td>Андерсен Х.</td>\n",
       "      <td>Русалочка</td>\n",
       "      <td>7800</td>\n",
       "    </tr>\n",
       "    <tr>\n",
       "      <td>2158</td>\n",
       "      <td>Королев И. (пер.)</td>\n",
       "      <td>Синдбад–мореход</td>\n",
       "      <td>7800</td>\n",
       "    </tr>\n",
       "    <tr>\n",
       "      <td>2157</td>\n",
       "      <td>Андерсен Х.</td>\n",
       "      <td>Снежная королева</td>\n",
       "      <td>7800</td>\n",
       "    </tr>\n",
       "  </tbody>\n",
       "</table>\n",
       "</div>"
      ],
      "text/plain": [
       "                 author                                              title  \\\n",
       "9935        Воробьев В.                           Мир спорта - это наш мир   \n",
       "2161            Гауф В.                                       Калиф - аист   \n",
       "1199          Калдер Н.  Руководство по механическим и электрическим си...   \n",
       "1200          Калдер Н.  Руководство по механическим и электрическим си...   \n",
       "2162        Андерсен Х.                                         Дюймовочка   \n",
       "2155            Гауф В.                                    Холодное сердце   \n",
       "2160        Андерсен Х.                              Принцесса на горошине   \n",
       "2159        Андерсен Х.                                          Русалочка   \n",
       "2158  Королев И. (пер.)                                    Синдбад–мореход   \n",
       "2157        Андерсен Х.                                   Снежная королева   \n",
       "\n",
       "      price  \n",
       "9935  13185  \n",
       "2161   8250  \n",
       "1199   7920  \n",
       "1200   7920  \n",
       "2162   7800  \n",
       "2155   7800  \n",
       "2160   7800  \n",
       "2159   7800  \n",
       "2158   7800  \n",
       "2157   7800  "
      ]
     },
     "metadata": {},
     "output_type": "display_data"
    }
   ],
   "source": [
    "print('\\nСамые дорогие книги (топ 10):')\n",
    "display(df.sort_values(by='price', ascending=False)[['author', 'title', 'price']].head(10))"
   ]
  },
  {
   "cell_type": "markdown",
   "metadata": {},
   "source": [
    "#### Посмотрим как зависит стоймость книги от её веса (очевидно что весьма прямая зависимость)\n",
    "Обучаем линейный регрессор:"
   ]
  },
  {
   "cell_type": "code",
   "execution_count": 6,
   "metadata": {},
   "outputs": [
    {
     "name": "stdout",
     "output_type": "stream",
     "text": [
      "Минимальная цена книги = 15.0\n",
      "Если бы продавали на вес, то 1 гр. книг стоил бы = 1.4 руб.\n"
     ]
    },
    {
     "data": {
      "image/png": "[encoded data removed]",
      "text/plain": [
       "<Figure size 432x288 with 1 Axes>"
      ]
     },
     "metadata": {
      "needs_background": "light"
     },
     "output_type": "display_data"
    }
   ],
   "source": [
    "model = LinearRegression(fit_intercept=True)\n",
    "X = df['weight'].to_numpy()[:, np.newaxis]\n",
    "y = df['price'].to_numpy()\n",
    "model.fit(X, y)\n",
    "# print(model.coef_, model.intercept_)\n",
    "xfit = np.linspace(0, X.max() * 1.05)\n",
    "Xfit = xfit[:, np.newaxis]\n",
    "yfit = model.predict(Xfit)\n",
    "print('Минимальная цена книги = {:.1f}'.format(y.min()))\n",
    "print('Если бы продавали на вес, то 1 гр. книг стоил бы = {:.1f} руб.'.format(model.coef_[0]))\n",
    "\n",
    "sns.scatterplot(x='weight', y='price', data=df)\n",
    "sns.lineplot(x=xfit, y=yfit)\n",
    "plt.xlabel('Вес')\n",
    "plt.ylabel('Цена')\n",
    "plt.title('Распределение веса / цены книг.')\n",
    "plt.tight_layout()\n",
    "plt.show()"
   ]
  },
  {
   "cell_type": "markdown",
   "metadata": {},
   "source": [
    "Распределение цен на книги в общем.\n",
    "Отмечена самая распространенная цена."
   ]
  },
  {
   "cell_type": "code",
   "execution_count": 10,
   "metadata": {},
   "outputs": [
    {
     "data": {
      "image/png": "[encoded data removed]",
      "text/plain": [
       "<Figure size 432x288 with 1 Axes>"
      ]
     },
     "metadata": {
      "needs_background": "light"
     },
     "output_type": "display_data"
    },
    {
     "name": "stdout",
     "output_type": "stream",
     "text": [
      "Самая популярная цена (+-) = 299.75\n",
      "Медианная цена =  380.0\n",
      "Средняя цена =  524.21\n"
     ]
    }
   ],
   "source": [
    "prices = df['price'].to_numpy()\n",
    "ax1 = sns.kdeplot(prices, shade=True)\n",
    "text_y = ax1.get_lines()[0].get_data()[1].max()\n",
    "text_x = ax1.get_lines()[0].get_data()[0]\n",
    "text_x = text_x[np.where(ax1.get_lines()[0].get_data()[1] == text_y)][0]\n",
    "ax1.annotate(s=format(text_x, '.1f'), xy=(text_x, text_y))\n",
    "plt.xlabel('Цена')\n",
    "plt.ylabel('Вероятность')\n",
    "plt.title('Распределение цен на книги')\n",
    "plt.show()\n",
    "print('Самая популярная цена (+-) = {:.2f}'.format(text_x))\n",
    "print('Медианная цена = ', np.median(prices))\n",
    "print('Средняя цена = ', format(np.mean(prices), '.2f'))"
   ]
  }
 ],
 "metadata": {
  "kernelspec": {
   "display_name": "Python 3",
   "language": "python",
   "name": "python3"
  },
  "language_info": {
   "codemirror_mode": {
    "name": "ipython",
    "version": 3
   },
   "file_extension": ".py",
   "mimetype": "text/x-python",
   "name": "python",
   "nbconvert_exporter": "python",
   "pygments_lexer": "ipython3",
   "version": "3.7.4"
  }
 },
 "nbformat": 4,
 "nbformat_minor": 2
}
