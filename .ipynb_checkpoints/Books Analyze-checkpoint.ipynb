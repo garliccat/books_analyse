{
 "cells": [
  {
   "cell_type": "markdown",
   "metadata": {},
   "source": [
    "#### Этот анализ затевался изначально просто чтобы посчитать среднюю высоту книги для строительства (очередного) шкафчика.   \n",
    "Но раз парсить, то парсить всё что можно. Поэтому помимо габаритов книги были собраны еще кое-какие данные.   \n",
    "Парсера тут нет, датасет уже собран.   \n",
    "Данные были любезно предоставлены (нет) сайтами магазинов Читай Город и Лабиринт.   \n",
    "Часть данных используется с одного сайта, часть с другого."
   ]
  },
  {
   "cell_type": "code",
   "execution_count": 1,
   "metadata": {},
   "outputs": [
    {
     "name": "stdout",
     "output_type": "stream",
     "text": [
      "Количество записей Читай-Город:  12355\n",
      "Количество записей Лабиринт:  50376\n"
     ]
    }
   ],
   "source": [
    "%matplotlib inline\n",
    "\n",
    "import pandas as pd\n",
    "import numpy as np\n",
    "from scipy import stats\n",
    "import matplotlib.pyplot as plt\n",
    "import seaborn as sns\n",
    "sns.set()\n",
    "from sklearn.linear_model import LinearRegression\n",
    "from IPython.display import display, HTML\n",
    "\n",
    "df2 = pd.read_csv('labirint_dataset.csv', sep=';', encoding='utf-16')\n",
    "df = pd.read_csv('chitai_gorod_dataset.csv', sep=';', encoding='utf-16')\n",
    "# df = df.dropna()\n",
    "\n",
    "print('Количество записей Читай-Город: ', df.shape[0])\n",
    "print('Количество записей Лабиринт: ', df2.shape[0])"
   ]
  },
  {
   "cell_type": "markdown",
   "metadata": {},
   "source": [
    "Так как записей много и там присутствуют НЕ книги почему-то тоже, то обрезаем аномалии по высоте книги и весу, которые попадают за 99ый и перед 1ый квантилем.\n",
    "Попадаются всякие адские фолианты или гигантские календари (которые почему-то у читай-города в разделе \"книги\")"
   ]
  },
  {
   "cell_type": "code",
   "execution_count": 2,
   "metadata": {},
   "outputs": [],
   "source": [
    "df = df[(df['height'] < df['height'].quantile(.999)) & (df['height'] > df['height'].quantile(.001))]\n",
    "df = df[(df['weight'] < df['weight'].quantile(.999)) & (df['weight'] > df['weight'].quantile(.001))]"
   ]
  },
  {
   "cell_type": "markdown",
   "metadata": {},
   "source": [
    "Делим все книги на две категории, ибо как правило в шкафах делают полки двух размеров (те, которые дома а не в библиотеках).\n",
    "Полки для большинства книг и полки для высоких, больших талмудов, коранов, библий и прочих антропологических атласов и энциклопедий рыбака."
   ]
  },
  {
   "cell_type": "code",
   "execution_count": 3,
   "metadata": {},
   "outputs": [
    {
     "data": {
      "image/png": "[encoded data removed]",
      "text/plain": [
       "<Figure size 432x288 with 1 Axes>"
      ]
     },
     "metadata": {
      "needs_background": "light"
     },
     "output_type": "display_data"
    },
    {
     "name": "stdout",
     "output_type": "stream",
     "text": [
      "Высота основных полок (плюс зазор 3 см.) =  24.0\n",
      "Высота дополнительных (высоких) полок (плюс 3 см.) =  37.9\n",
      "Пропорция количества полок обычные / высокие: 2.5\n"
     ]
    }
   ],
   "source": [
    "height = df['height'].dropna()\n",
    "ax1 = sns.distplot(height, bins=2)\n",
    "text_y = ax1.get_lines()[0].get_data()[1].max()\n",
    "text_x = ax1.get_lines()[0].get_data()[0]\n",
    "text_x = text_x[np.where(ax1.get_lines()[0].get_data()[1] == text_y)][0]\n",
    "ax1.annotate(s=format(text_x, '.1f'), xy=(text_x, text_y))\n",
    "plt.xlabel('Высота книги (см.)')\n",
    "plt.ylabel('Вероятность')\n",
    "plt.title('Распределение высоты книг')\n",
    "plt.tight_layout()\n",
    "plt.show()\n",
    "\n",
    "print('Высота основных полок (плюс зазор 3 см.) = ', round(text_x + 3, 1))\n",
    "print('Высота дополнительных (высоких) полок (плюс 3 см.) = ', round((height.max() + 3), 1))\n",
    "shelves_prop = ax1.patches[1].get_x() / ax1.patches[0].get_x()\n",
    "print('Пропорция количества полок обычные / высокие: {:.1f}'.format(shelves_prop))"
   ]
  },
  {
   "cell_type": "markdown",
   "metadata": {},
   "source": [
    "Анализ издательств."
   ]
  },
  {
   "cell_type": "code",
   "execution_count": null,
   "metadata": {},
   "outputs": [],
   "source": [
    "print('\\nСамые плодовитые авторы:')\n",
    "print(df2.groupby(by='author').count()['title'].sort_values(ascending=False).head(20))\n",
    "print('\\nТоп годов по релизам:')\n",
    "print(df.groupby(by='year').count()['title'].sort_values(ascending=False).head())\n",
    "print('\\nТоп книг по количеству страниц:')\n",
    "print(df2.sort_values(by='pages', ascending=False)[['author', 'title', 'pages']].head())\n",
    "\n",
    "pages = df2.groupby(by='pages').count()['title'].sort_values(ascending=False)\n",
    "print('\\nСамые ходовые количества страниц'), pages.head())\n",
    "page_conspiracy = df2[df2['pages'] == pages.index[0]].groupby(by='publisher').count()['title'].sort_values(ascending=False)\n",
    "print('\\n', page_conspiracy.head())\n",
    "print('\\nСамый ленивый издатель (большинство книг с одинаковым количеством страниц): ', page_conspiracy.index[0])\n",
    "\n",
    "print('\\nВозрастные рейтинги книг:')\n",
    "book_ratings = df.groupby(by='book_pg').count()['title'].sort_values(ascending=False)\n",
    "# print(book_ratings)\n",
    "ax = sns.barplot(book_ratings.index, book_ratings.values)\n",
    "for p in ax.patches:\n",
    "\tax.annotate(format(p.get_height(), '.0f'), (p.get_x() + p.get_width() / 2., p.get_height()), ha = 'center', va = 'center', xytext = (0, 10), textcoords = 'offset points')\n",
    "plt.xlabel('Возрастной рейтинг книг')\n",
    "plt.ylabel('Количество книг')\n",
    "plt.title('Возрастные рейтинги книг')\n",
    "plt.show()"
   ]
  }
 ],
 "metadata": {
  "kernelspec": {
   "display_name": "Python 3",
   "language": "python",
   "name": "python3"
  },
  "language_info": {
   "codemirror_mode": {
    "name": "ipython",
    "version": 3
   },
   "file_extension": ".py",
   "mimetype": "text/x-python",
   "name": "python",
   "nbconvert_exporter": "python",
   "pygments_lexer": "ipython3",
   "version": "3.7.4"
  }
 },
 "nbformat": 4,
 "nbformat_minor": 2
}
